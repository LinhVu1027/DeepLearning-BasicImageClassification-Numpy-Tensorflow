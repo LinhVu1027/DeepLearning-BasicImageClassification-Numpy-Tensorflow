{
 "cells": [
  {
   "cell_type": "markdown",
   "metadata": {},
   "source": [
    "Import dependencies"
   ]
  },
  {
   "cell_type": "code",
   "execution_count": 1,
   "metadata": {
    "collapsed": true
   },
   "outputs": [],
   "source": [
    "import numpy as np\n",
    "import matplotlib.pyplot as plt\n",
    "\n",
    "%matplotlib inline"
   ]
  },
  {
   "cell_type": "markdown",
   "metadata": {},
   "source": [
    "Load data into X, Y"
   ]
  },
  {
   "cell_type": "code",
   "execution_count": 2,
   "metadata": {
    "collapsed": false
   },
   "outputs": [],
   "source": [
    "X = []\n",
    "Y = []\n",
    "\n",
    "for line in open('data/data_1d.csv'):\n",
    "    x, y = line.split(',')\n",
    "    X.append(float(x))\n",
    "    Y.append(float(y))\n",
    "    \n",
    "X = np.array(X).reshape(-1, 1)\n",
    "Y = np.array(Y).reshape(-1, 1)"
   ]
  },
  {
   "cell_type": "markdown",
   "metadata": {},
   "source": [
    "Draw data"
   ]
  },
  {
   "cell_type": "code",
   "execution_count": 3,
   "metadata": {
    "collapsed": false
   },
   "outputs": [
    {
     "data": {
      "image/png": "[encoded data removed]",
      "text/plain": [
       "<matplotlib.figure.Figure at 0x115170290>"
      ]
     },
     "metadata": {},
     "output_type": "display_data"
    }
   ],
   "source": [
    "plt.scatter(X, Y)\n",
    "plt.show()"
   ]
  },
  {
   "cell_type": "markdown",
   "metadata": {},
   "source": [
    "Data format"
   ]
  },
  {
   "cell_type": "code",
   "execution_count": 4,
   "metadata": {
    "collapsed": false
   },
   "outputs": [
    {
     "name": "stdout",
     "output_type": "stream",
     "text": [
      "[[ 95.72416241]\n",
      " [ 35.75761893]]\n",
      "[[ 197.17963609]\n",
      " [  67.59066954]]\n"
     ]
    }
   ],
   "source": [
    "print X[0:2, :]\n",
    "print Y[0:2, :]"
   ]
  },
  {
   "cell_type": "markdown",
   "metadata": {},
   "source": [
    "Define functions: hypothesis and cost"
   ]
  },
  {
   "cell_type": "code",
   "execution_count": 5,
   "metadata": {
    "collapsed": false
   },
   "outputs": [],
   "source": [
    "def hypothesis(X, theta, b):\n",
    "    return X.dot(theta) + b\n",
    "\n",
    "def cost(X, Y, theta, b):\n",
    "    m = len(X)\n",
    "    return 1.0/(2*m) * np.sum((hypothesis(X, theta, b)-Y)**2)\n",
    "    \n",
    "def derivative_theta(X, Y, theta, b):\n",
    "    m = len(X)\n",
    "    return 1.0/m * X.T.dot(hypothesis(X, theta, b)-Y)\n",
    "\n",
    "def derivative_bias(X, Y, theta, b):\n",
    "    m = len(X)\n",
    "    return 1.0/m * np.sum(hypothesis(X, theta, b)-Y, axis=0)"
   ]
  },
  {
   "cell_type": "markdown",
   "metadata": {},
   "source": [
    "Initialize variables"
   ]
  },
  {
   "cell_type": "code",
   "execution_count": 6,
   "metadata": {
    "collapsed": true
   },
   "outputs": [],
   "source": [
    "theta = np.random.randn(1,1)\n",
    "b = np.random.randn(1,1)\n",
    "learning_rate = 3e-4\n",
    "cost_list = []\n",
    "n_epochs = 100"
   ]
  },
  {
   "cell_type": "markdown",
   "metadata": {},
   "source": [
    "Calculate radient descent"
   ]
  },
  {
   "cell_type": "code",
   "execution_count": 7,
   "metadata": {
    "collapsed": false
   },
   "outputs": [],
   "source": [
    "cost_list.append(cost(X, Y, theta, b))\n",
    "for _ in range(n_epochs):\n",
    "    theta -= learning_rate*derivative_theta(X, Y, theta, b)\n",
    "    b -= learning_rate*derivative_bias(X, Y, theta, b)\n",
    "    cost_list.append(cost(X, Y, theta, b))"
   ]
  },
  {
   "cell_type": "markdown",
   "metadata": {},
   "source": [
    "Show result"
   ]
  },
  {
   "cell_type": "code",
   "execution_count": 8,
   "metadata": {
    "collapsed": false,
    "scrolled": true
   },
   "outputs": [
    {
     "name": "stdout",
     "output_type": "stream",
     "text": [
      "Final cost: 14.0204364993\n"
     ]
    },
    {
     "data": {
      "image/png": "[encoded data removed]",
      "text/plain": [
       "<matplotlib.figure.Figure at 0x1184aed90>"
      ]
     },
     "metadata": {},
     "output_type": "display_data"
    }
   ],
   "source": [
    "print \"Final cost:\", cost_list[-1]\n",
    "_, (ax1, ax2) = plt.subplots(1, 2)\n",
    "ax1.plot(cost_list)\n",
    "ax1.set_title('Cost graph')\n",
    "ax2.scatter(X, Y)\n",
    "ax2.plot(X, hypothesis(X, theta, b), c='r')\n",
    "ax2.set_title('Best fit line')\n",
    "plt.show()"
   ]
  },
  {
   "cell_type": "code",
   "execution_count": null,
   "metadata": {
    "collapsed": true
   },
   "outputs": [],
   "source": []
  }
 ],
 "metadata": {
  "kernelspec": {
   "display_name": "Python 2",
   "language": "python",
   "name": "python2"
  },
  "language_info": {
   "codemirror_mode": {
    "name": "ipython",
    "version": 2
   },
   "file_extension": ".py",
   "mimetype": "text/x-python",
   "name": "python",
   "nbconvert_exporter": "python",
   "pygments_lexer": "ipython2",
   "version": "2.7.13"
  }
 },
 "nbformat": 4,
 "nbformat_minor": 2
}
