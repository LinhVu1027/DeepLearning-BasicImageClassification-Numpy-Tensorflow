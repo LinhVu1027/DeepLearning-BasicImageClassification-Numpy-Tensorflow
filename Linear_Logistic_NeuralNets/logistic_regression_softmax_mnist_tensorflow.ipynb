{
 "cells": [
  {
   "cell_type": "markdown",
   "metadata": {},
   "source": [
    "Import module"
   ]
  },
  {
   "cell_type": "code",
   "execution_count": 1,
   "metadata": {
    "collapsed": true
   },
   "outputs": [],
   "source": [
    "import tensorflow as tf\n",
    "import numpy as np\n",
    "from tensorflow.examples.tutorials.mnist import input_data\n",
    "import matplotlib.pyplot as plt\n",
    "import time\n",
    "\n",
    "%matplotlib inline"
   ]
  },
  {
   "cell_type": "markdown",
   "metadata": {},
   "source": [
    "Define parameters for the model"
   ]
  },
  {
   "cell_type": "code",
   "execution_count": 2,
   "metadata": {
    "collapsed": true
   },
   "outputs": [],
   "source": [
    "learning_rate = 0.5\n",
    "batch_size  = 128\n",
    "n_epochs = 30"
   ]
  },
  {
   "cell_type": "markdown",
   "metadata": {},
   "source": [
    "Read in data"
   ]
  },
  {
   "cell_type": "code",
   "execution_count": 3,
   "metadata": {
    "collapsed": false
   },
   "outputs": [
    {
     "name": "stdout",
     "output_type": "stream",
     "text": [
      "Extracting ./data/mnist/train-images-idx3-ubyte.gz\n",
      "Extracting ./data/mnist/train-labels-idx1-ubyte.gz\n",
      "Extracting ./data/mnist/t10k-images-idx3-ubyte.gz\n",
      "Extracting ./data/mnist/t10k-labels-idx1-ubyte.gz\n"
     ]
    }
   ],
   "source": [
    "mnist = input_data.read_data_sets('./data/mnist', one_hot=True)"
   ]
  },
  {
   "cell_type": "markdown",
   "metadata": {},
   "source": [
    "Create placeholders for features and labels, weights and bias"
   ]
  },
  {
   "cell_type": "code",
   "execution_count": 5,
   "metadata": {
    "collapsed": true
   },
   "outputs": [],
   "source": [
    "X = tf.placeholder(tf.float32, [None, 784], name='X_placeholder')\n",
    "Y = tf.placeholder(tf.float32, [None, 10], name='Y_placeholder')\n",
    "\n",
    "w = tf.Variable(tf.random_normal(shape=[784, 10], stddev=0.01), name='weights')\n",
    "b = tf.Variable(tf.zeros([1, 10]), name='bias')"
   ]
  },
  {
   "cell_type": "markdown",
   "metadata": {},
   "source": [
    "Build model"
   ]
  },
  {
   "cell_type": "code",
   "execution_count": 6,
   "metadata": {
    "collapsed": true
   },
   "outputs": [],
   "source": [
    "logits = tf.matmul(X, w) + b"
   ]
  },
  {
   "cell_type": "markdown",
   "metadata": {},
   "source": [
    "Define loss function"
   ]
  },
  {
   "cell_type": "code",
   "execution_count": 7,
   "metadata": {
    "collapsed": false
   },
   "outputs": [],
   "source": [
    "entropy = tf.nn.softmax_cross_entropy_with_logits(labels=Y, logits=logits, name='loss')\n",
    "loss = tf.reduce_mean(entropy)"
   ]
  },
  {
   "cell_type": "markdown",
   "metadata": {},
   "source": [
    "Define training op"
   ]
  },
  {
   "cell_type": "code",
   "execution_count": 8,
   "metadata": {
    "collapsed": true
   },
   "outputs": [],
   "source": [
    "optimizer = tf.train.GradientDescentOptimizer(learning_rate).minimize(loss)"
   ]
  },
  {
   "cell_type": "markdown",
   "metadata": {},
   "source": [
    "Define accuracy op"
   ]
  },
  {
   "cell_type": "code",
   "execution_count": 9,
   "metadata": {
    "collapsed": true
   },
   "outputs": [],
   "source": [
    "preds = tf.nn.softmax(logits)\n",
    "correct_preds = tf.equal(tf.argmax(preds, 1), tf.argmax(Y, 1))\n",
    "accuracy = tf.reduce_mean(tf.cast(correct_preds, tf.float32))"
   ]
  },
  {
   "cell_type": "markdown",
   "metadata": {},
   "source": [
    "Loss list"
   ]
  },
  {
   "cell_type": "code",
   "execution_count": 10,
   "metadata": {
    "collapsed": true
   },
   "outputs": [],
   "source": [
    "loss_list = []"
   ]
  },
  {
   "cell_type": "markdown",
   "metadata": {},
   "source": [
    "Begin session and test model"
   ]
  },
  {
   "cell_type": "code",
   "execution_count": 11,
   "metadata": {
    "collapsed": false
   },
   "outputs": [
    {
     "name": "stdout",
     "output_type": "stream",
     "text": [
      "Average loss epoch 0: 0.415014506012\n",
      "Average loss epoch 1: 0.314716146056\n",
      "Average loss epoch 2: 0.297174521294\n",
      "Average loss epoch 3: 0.289313588561\n",
      "Average loss epoch 4: 0.282755491773\n",
      "Average loss epoch 5: 0.279291499675\n",
      "Average loss epoch 6: 0.275193374995\n",
      "Average loss epoch 7: 0.272853279586\n",
      "Average loss epoch 8: 0.270663764059\n",
      "Average loss epoch 9: 0.268353187816\n",
      "Average loss epoch 10: 0.266665222119\n",
      "Average loss epoch 11: 0.265132294008\n",
      "Average loss epoch 12: 0.263958383586\n",
      "Average loss epoch 13: 0.262420957947\n",
      "Average loss epoch 14: 0.261011985736\n",
      "Average loss epoch 15: 0.260136615285\n",
      "Average loss epoch 16: 0.257804943496\n",
      "Average loss epoch 17: 0.25840655584\n",
      "Average loss epoch 18: 0.257087181932\n",
      "Average loss epoch 19: 0.257500064557\n",
      "Average loss epoch 20: 0.255754913223\n",
      "Average loss epoch 21: 0.255429922909\n",
      "Average loss epoch 22: 0.254442110032\n",
      "Average loss epoch 23: 0.254299622507\n",
      "Average loss epoch 24: 0.253284334112\n",
      "Average loss epoch 25: 0.252483556963\n",
      "Average loss epoch 26: 0.252071536886\n",
      "Average loss epoch 27: 0.252434951095\n",
      "Average loss epoch 28: 0.250944191811\n",
      "Average loss epoch 29: 0.250676001598\n",
      "Total time: 20.4364540577 seconds\n",
      "Optimization Finished!\n",
      "Accuracy 0.922999978065\n"
     ]
    }
   ],
   "source": [
    "with tf.Session() as sess:\n",
    "    start_time = time.time()\n",
    "    sess.run(tf.global_variables_initializer())\n",
    "    n_batches = int(mnist.train.num_examples/batch_size)\n",
    "    for i in range(n_epochs):\n",
    "        total_loss = 0\n",
    "        \n",
    "        for _ in range(n_batches):\n",
    "            X_batch, Y_batch = mnist.train.next_batch(batch_size)\n",
    "            #print \"Before: \", sess.run(loss, feed_dict={X: X_batch, Y: Y_batch})\n",
    "            _, loss_batch = sess.run([optimizer, loss], feed_dict={X: X_batch, Y: Y_batch})\n",
    "            #print \"After: \", sess.run(loss, feed_dict={X: X_batch, Y: Y_batch})\n",
    "            #print \"After: \", loss_batch\n",
    "            total_loss += loss_batch\n",
    "        average_loss = total_loss/n_batches\n",
    "        loss_list.append(average_loss)\n",
    "        print 'Average loss epoch {0}: {1}'.format(i, average_loss)\n",
    "        \n",
    "    print 'Total time: {0} seconds'.format(time.time() - start_time)\n",
    "    print 'Optimization Finished!'\n",
    "\n",
    "    accuracy_val = sess.run(accuracy, feed_dict={X: mnist.test.images, Y: mnist.test.labels})\n",
    "    print 'Accuracy {0}'.format(accuracy_val)"
   ]
  },
  {
   "cell_type": "markdown",
   "metadata": {},
   "source": [
    "Loss graph"
   ]
  },
  {
   "cell_type": "code",
   "execution_count": 12,
   "metadata": {
    "collapsed": false
   },
   "outputs": [
    {
     "data": {
      "image/png": "[encoded data removed]",
      "text/plain": [
       "<matplotlib.figure.Figure at 0x1036309d0>"
      ]
     },
     "metadata": {},
     "output_type": "display_data"
    }
   ],
   "source": [
    "plt.plot(loss_list)\n",
    "plt.show()"
   ]
  },
  {
   "cell_type": "code",
   "execution_count": null,
   "metadata": {
    "collapsed": true
   },
   "outputs": [],
   "source": []
  }
 ],
 "metadata": {
  "kernelspec": {
   "display_name": "Python 2",
   "language": "python",
   "name": "python2"
  },
  "language_info": {
   "codemirror_mode": {
    "name": "ipython",
    "version": 2
   },
   "file_extension": ".py",
   "mimetype": "text/x-python",
   "name": "python",
   "nbconvert_exporter": "python",
   "pygments_lexer": "ipython2",
   "version": "2.7.13"
  }
 },
 "nbformat": 4,
 "nbformat_minor": 2
}
